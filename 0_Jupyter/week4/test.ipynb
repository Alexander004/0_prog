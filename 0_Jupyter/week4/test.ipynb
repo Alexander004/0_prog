{
 "cells": [
  {
   "cell_type": "code",
   "execution_count": 8,
   "id": "a39d1080",
   "metadata": {},
   "outputs": [
    {
     "data": {
      "text/html": [
       "<div>\n",
       "<style scoped>\n",
       "    .dataframe tbody tr th:only-of-type {\n",
       "        vertical-align: middle;\n",
       "    }\n",
       "\n",
       "    .dataframe tbody tr th {\n",
       "        vertical-align: top;\n",
       "    }\n",
       "\n",
       "    .dataframe thead th {\n",
       "        text-align: right;\n",
       "    }\n",
       "</style>\n",
       "<table border=\"1\" class=\"dataframe\">\n",
       "  <thead>\n",
       "    <tr style=\"text-align: right;\">\n",
       "      <th></th>\n",
       "      <th>name</th>\n",
       "      <th>align</th>\n",
       "      <th>eye</th>\n",
       "      <th>hair</th>\n",
       "      <th>sex</th>\n",
       "      <th>appearances</th>\n",
       "      <th>first_appearance</th>\n",
       "    </tr>\n",
       "  </thead>\n",
       "  <tbody>\n",
       "    <tr>\n",
       "      <th>0</th>\n",
       "      <td>Spider-Man (Peter Parker)</td>\n",
       "      <td>Добрый персонаж</td>\n",
       "      <td>Карие глаза</td>\n",
       "      <td>Каштановые волосы</td>\n",
       "      <td>Мужской персонаж</td>\n",
       "      <td>4043.0</td>\n",
       "      <td>1962.0</td>\n",
       "    </tr>\n",
       "    <tr>\n",
       "      <th>1</th>\n",
       "      <td>Captain America (Steven Rogers)</td>\n",
       "      <td>Добрый персонаж</td>\n",
       "      <td>Голубые глаза</td>\n",
       "      <td>Белые волосы</td>\n",
       "      <td>Мужской персонаж</td>\n",
       "      <td>3360.0</td>\n",
       "      <td>1941.0</td>\n",
       "    </tr>\n",
       "    <tr>\n",
       "      <th>2</th>\n",
       "      <td>Wolverine (James \\\"Logan\\\" Howlett)</td>\n",
       "      <td>Нейтральный персонаж</td>\n",
       "      <td>Голубые глаза</td>\n",
       "      <td>Черные волосы</td>\n",
       "      <td>Мужской персонаж</td>\n",
       "      <td>3061.0</td>\n",
       "      <td>1974.0</td>\n",
       "    </tr>\n",
       "    <tr>\n",
       "      <th>3</th>\n",
       "      <td>Iron Man (Anthony \\\"Tony\\\" Stark)</td>\n",
       "      <td>Добрый персонаж</td>\n",
       "      <td>Голубые глаза</td>\n",
       "      <td>Черные волосы</td>\n",
       "      <td>Мужской персонаж</td>\n",
       "      <td>2961.0</td>\n",
       "      <td>1963.0</td>\n",
       "    </tr>\n",
       "    <tr>\n",
       "      <th>4</th>\n",
       "      <td>Thor (Thor Odinson)</td>\n",
       "      <td>Добрый персонаж</td>\n",
       "      <td>Голубые глаза</td>\n",
       "      <td>Русые волосы</td>\n",
       "      <td>Мужской персонаж</td>\n",
       "      <td>2258.0</td>\n",
       "      <td>1950.0</td>\n",
       "    </tr>\n",
       "    <tr>\n",
       "      <th>...</th>\n",
       "      <td>...</td>\n",
       "      <td>...</td>\n",
       "      <td>...</td>\n",
       "      <td>...</td>\n",
       "      <td>...</td>\n",
       "      <td>...</td>\n",
       "      <td>...</td>\n",
       "    </tr>\n",
       "    <tr>\n",
       "      <th>16371</th>\n",
       "      <td>Ru'ach (Earth-616)</td>\n",
       "      <td>Злой персонаж</td>\n",
       "      <td>Зеленые глаза</td>\n",
       "      <td>Без волос</td>\n",
       "      <td>Мужской персонаж</td>\n",
       "      <td>NaN</td>\n",
       "      <td>NaN</td>\n",
       "    </tr>\n",
       "    <tr>\n",
       "      <th>16372</th>\n",
       "      <td>Thane (Thanos' son) (Earth-616)</td>\n",
       "      <td>Добрый персонаж</td>\n",
       "      <td>Голубые глаза</td>\n",
       "      <td>NaN</td>\n",
       "      <td>Мужской персонаж</td>\n",
       "      <td>NaN</td>\n",
       "      <td>NaN</td>\n",
       "    </tr>\n",
       "    <tr>\n",
       "      <th>16373</th>\n",
       "      <td>Tinkerer (Skrull) (Earth-616)</td>\n",
       "      <td>Злой персонаж</td>\n",
       "      <td>Черные глаза</td>\n",
       "      <td>NaN</td>\n",
       "      <td>Мужской персонаж</td>\n",
       "      <td>NaN</td>\n",
       "      <td>NaN</td>\n",
       "    </tr>\n",
       "    <tr>\n",
       "      <th>16374</th>\n",
       "      <td>TK421 (Spiderling) (Earth-616)</td>\n",
       "      <td>Нейтральный персонаж</td>\n",
       "      <td>NaN</td>\n",
       "      <td>NaN</td>\n",
       "      <td>Мужской персонаж</td>\n",
       "      <td>NaN</td>\n",
       "      <td>NaN</td>\n",
       "    </tr>\n",
       "    <tr>\n",
       "      <th>16375</th>\n",
       "      <td>Yologarch (Earth-616)</td>\n",
       "      <td>Злой персонаж</td>\n",
       "      <td>NaN</td>\n",
       "      <td>NaN</td>\n",
       "      <td>NaN</td>\n",
       "      <td>NaN</td>\n",
       "      <td>NaN</td>\n",
       "    </tr>\n",
       "  </tbody>\n",
       "</table>\n",
       "<p>16376 rows × 7 columns</p>\n",
       "</div>"
      ],
      "text/plain": [
       "                                      name                 align  \\\n",
       "0                Spider-Man (Peter Parker)       Добрый персонаж   \n",
       "1          Captain America (Steven Rogers)       Добрый персонаж   \n",
       "2      Wolverine (James \\\"Logan\\\" Howlett)  Нейтральный персонаж   \n",
       "3        Iron Man (Anthony \\\"Tony\\\" Stark)       Добрый персонаж   \n",
       "4                      Thor (Thor Odinson)       Добрый персонаж   \n",
       "...                                    ...                   ...   \n",
       "16371                   Ru'ach (Earth-616)         Злой персонаж   \n",
       "16372      Thane (Thanos' son) (Earth-616)       Добрый персонаж   \n",
       "16373        Tinkerer (Skrull) (Earth-616)         Злой персонаж   \n",
       "16374       TK421 (Spiderling) (Earth-616)  Нейтральный персонаж   \n",
       "16375                Yologarch (Earth-616)         Злой персонаж   \n",
       "\n",
       "                 eye               hair               sex  appearances  \\\n",
       "0        Карие глаза  Каштановые волосы  Мужской персонаж       4043.0   \n",
       "1      Голубые глаза       Белые волосы  Мужской персонаж       3360.0   \n",
       "2      Голубые глаза      Черные волосы  Мужской персонаж       3061.0   \n",
       "3      Голубые глаза      Черные волосы  Мужской персонаж       2961.0   \n",
       "4      Голубые глаза       Русые волосы  Мужской персонаж       2258.0   \n",
       "...              ...                ...               ...          ...   \n",
       "16371  Зеленые глаза          Без волос  Мужской персонаж          NaN   \n",
       "16372  Голубые глаза                NaN  Мужской персонаж          NaN   \n",
       "16373   Черные глаза                NaN  Мужской персонаж          NaN   \n",
       "16374            NaN                NaN  Мужской персонаж          NaN   \n",
       "16375            NaN                NaN               NaN          NaN   \n",
       "\n",
       "       first_appearance  \n",
       "0                1962.0  \n",
       "1                1941.0  \n",
       "2                1974.0  \n",
       "3                1963.0  \n",
       "4                1950.0  \n",
       "...                 ...  \n",
       "16371               NaN  \n",
       "16372               NaN  \n",
       "16373               NaN  \n",
       "16374               NaN  \n",
       "16375               NaN  \n",
       "\n",
       "[16376 rows x 7 columns]"
      ]
     },
     "execution_count": 8,
     "metadata": {},
     "output_type": "execute_result"
    }
   ],
   "source": [
    "import pandas as pd\n",
    "\n",
    "df = pd.read_csv('Data/MarvelComicCaracters.csv', sep = ';')\n",
    "df"
   ]
  },
  {
   "cell_type": "code",
   "execution_count": 29,
   "id": "c351cf4e",
   "metadata": {},
   "outputs": [
    {
     "name": "stdout",
     "output_type": "stream",
     "text": [
      "<class 'pandas.core.frame.DataFrame'>\n",
      "RangeIndex: 16376 entries, 0 to 16375\n",
      "Data columns (total 7 columns):\n",
      " #   Column            Non-Null Count  Dtype  \n",
      "---  ------            --------------  -----  \n",
      " 0   name              16376 non-null  object \n",
      " 1   align             13564 non-null  object \n",
      " 2   eye               6609 non-null   object \n",
      " 3   hair              9989 non-null   object \n",
      " 4   sex               15522 non-null  object \n",
      " 5   appearances       15280 non-null  float64\n",
      " 6   first_appearance  15561 non-null  float64\n",
      "dtypes: float64(2), object(5)\n",
      "memory usage: 895.7+ KB\n"
     ]
    }
   ],
   "source": [
    "df.info()"
   ]
  },
  {
   "cell_type": "code",
   "execution_count": 12,
   "id": "e196c51b",
   "metadata": {},
   "outputs": [
    {
     "data": {
      "text/plain": [
       "1.0       4810\n",
       "2.0       2074\n",
       "3.0       1419\n",
       "4.0       1097\n",
       "5.0        796\n",
       "          ... \n",
       "126.0        1\n",
       "310.0        1\n",
       "311.0        1\n",
       "313.0        1\n",
       "4043.0       1\n",
       "Name: appearances, Length: 358, dtype: int64"
      ]
     },
     "execution_count": 12,
     "metadata": {},
     "output_type": "execute_result"
    }
   ],
   "source": [
    "df['appearances'].value_counts()"
   ]
  },
  {
   "cell_type": "code",
   "execution_count": 15,
   "id": "fc3e7a37",
   "metadata": {},
   "outputs": [
    {
     "data": {
      "text/plain": [
       "Злой персонаж           6720\n",
       "Добрый персонаж         4636\n",
       "Нейтральный персонаж    2208\n",
       "Name: align, dtype: int64"
      ]
     },
     "execution_count": 15,
     "metadata": {},
     "output_type": "execute_result"
    }
   ],
   "source": [
    "df['align'].value_counts()"
   ]
  },
  {
   "cell_type": "code",
   "execution_count": 20,
   "id": "cae0c365",
   "metadata": {},
   "outputs": [
    {
     "data": {
      "text/plain": [
       "sex                      eye                  \n",
       "Безполый персонаж        Белые глаза                10\n",
       "                         Разноцветные глаза          5\n",
       "                         Желтые глаза                4\n",
       "                         Черные глаза                4\n",
       "                         Зеленые глаза               3\n",
       "                         Красные глаза               3\n",
       "                         Голубые глаза               1\n",
       "                         Оранжевые глаза             1\n",
       "                         Темно-карие глаза           1\n",
       "                         Фиолетовые глаза            1\n",
       "Гендерфлюидный персонаж  Зеленые глаза               1\n",
       "                         Темно-карие глаза           1\n",
       "Женский персонаж         Голубые глаза             692\n",
       "                         Темно-карие глаза         519\n",
       "                         Зеленые глаза             268\n",
       "                         Черные глаза              137\n",
       "                         Белые глаза                82\n",
       "                         Красные глаза              77\n",
       "                         Желтые глаза               57\n",
       "                         Серые глаза                20\n",
       "                         Карие глаза                17\n",
       "                         Фиолетовые глаза           14\n",
       "                         Лиловые глаза               8\n",
       "                         Разноцветные глаза          7\n",
       "                         Серебристые глаза           6\n",
       "                         Оранжевые глаза             5\n",
       "                         Розовые глаза               5\n",
       "                         Золотые глаза               3\n",
       "                         Желтые глазные яблоки       2\n",
       "                         Пурпурные глаза             2\n",
       "                         Черные глазные яблоки       2\n",
       "                         Янтарные глаза              2\n",
       "                         Много глаз                  1\n",
       "                         Нет глаз                    1\n",
       "                         Один глаз                   1\n",
       "Мужской персонаж         Темно-карие глаза        1400\n",
       "                         Голубые глаза            1258\n",
       "                         Черные глаза              394\n",
       "                         Красные глаза             377\n",
       "                         Зеленые глаза             328\n",
       "                         Белые глаза               292\n",
       "                         Желтые глаза              174\n",
       "                         Серые глаза                75\n",
       "                         Карие глаза                58\n",
       "                         Разноцветные глаза         28\n",
       "                         Один глаз                  20\n",
       "                         Оранжевые глаза            18\n",
       "                         Розовые глаза              15\n",
       "                         Фиолетовые глаза           15\n",
       "                         Золотые глаза              10\n",
       "                         Янтарные глаза              8\n",
       "                         Много глаз                  6\n",
       "                         Желтые глазные яблоки       4\n",
       "                         Серебристые глаза           4\n",
       "                         Лиловые глаза               3\n",
       "                         Нет глаз                    3\n",
       "                         Фасеточные глаза            1\n",
       "                         Черные глазные яблоки       1\n",
       "Name: eye, dtype: int64"
      ]
     },
     "execution_count": 20,
     "metadata": {},
     "output_type": "execute_result"
    }
   ],
   "source": [
    "df.groupby('sex')['eye'].value_counts()"
   ]
  },
  {
   "cell_type": "code",
   "execution_count": 27,
   "id": "13459956",
   "metadata": {},
   "outputs": [
    {
     "data": {
      "text/plain": [
       "Голубые глаза            692\n",
       "Темно-карие глаза        519\n",
       "Зеленые глаза            268\n",
       "Черные глаза             137\n",
       "Белые глаза               82\n",
       "Красные глаза             77\n",
       "Желтые глаза              57\n",
       "Серые глаза               20\n",
       "Карие глаза               17\n",
       "Фиолетовые глаза          14\n",
       "Лиловые глаза              8\n",
       "Разноцветные глаза         7\n",
       "Серебристые глаза          6\n",
       "Розовые глаза              5\n",
       "Оранжевые глаза            5\n",
       "Золотые глаза              3\n",
       "Янтарные глаза             2\n",
       "Желтые глазные яблоки      2\n",
       "Черные глазные яблоки      2\n",
       "Пурпурные глаза            2\n",
       "Нет глаз                   1\n",
       "Много глаз                 1\n",
       "Один глаз                  1\n",
       "Name: eye, dtype: int64"
      ]
     },
     "execution_count": 27,
     "metadata": {},
     "output_type": "execute_result"
    }
   ],
   "source": [
    "df[df['sex'] == 'Женский персонаж']['eye'].value_counts()"
   ]
  },
  {
   "cell_type": "code",
   "execution_count": 28,
   "id": "99d4faea",
   "metadata": {},
   "outputs": [
    {
     "data": {
      "text/plain": [
       "Злой персонаж      1\n",
       "Добрый персонаж    1\n",
       "Name: align, dtype: int64"
      ]
     },
     "execution_count": 28,
     "metadata": {},
     "output_type": "execute_result"
    }
   ],
   "source": [
    "df[df['eye'] == 'Пурпурные глаза']['align'].value_counts()"
   ]
  },
  {
   "cell_type": "code",
   "execution_count": 31,
   "id": "7ea40e01",
   "metadata": {},
   "outputs": [
    {
     "data": {
      "text/plain": [
       "1993.0    554\n",
       "1994.0    485\n",
       "1992.0    455\n",
       "2006.0    381\n",
       "2008.0    360\n",
       "         ... \n",
       "1952.0     26\n",
       "1956.0     16\n",
       "1957.0      7\n",
       "1959.0      4\n",
       "1958.0      2\n",
       "Name: first_appearance, Length: 75, dtype: int64"
      ]
     },
     "execution_count": 31,
     "metadata": {},
     "output_type": "execute_result"
    }
   ],
   "source": [
    "df['first_appearance'].value_counts()"
   ]
  },
  {
   "cell_type": "code",
   "execution_count": 37,
   "id": "7eeb37c1",
   "metadata": {},
   "outputs": [
    {
     "name": "stdout",
     "output_type": "stream",
     "text": [
      "2.0\n"
     ]
    }
   ],
   "source": [
    "A = df[(df['sex'] == 'Мужской персонаж') & (df['appearances'] > 100)].shape[0]\n",
    "print(round(A/df.shape[0], 2)*100)"
   ]
  },
  {
   "cell_type": "code",
   "execution_count": null,
   "id": "2baf3956",
   "metadata": {},
   "outputs": [],
   "source": []
  }
 ],
 "metadata": {
  "kernelspec": {
   "display_name": "Python 3 (ipykernel)",
   "language": "python",
   "name": "python3"
  },
  "language_info": {
   "codemirror_mode": {
    "name": "ipython",
    "version": 3
   },
   "file_extension": ".py",
   "mimetype": "text/x-python",
   "name": "python",
   "nbconvert_exporter": "python",
   "pygments_lexer": "ipython3",
   "version": "3.9.13"
  }
 },
 "nbformat": 4,
 "nbformat_minor": 5
}

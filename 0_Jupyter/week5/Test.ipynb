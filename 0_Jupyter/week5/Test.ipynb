{
 "cells": [
  {
   "cell_type": "code",
   "execution_count": 3,
   "id": "aa1c3529",
   "metadata": {},
   "outputs": [
    {
     "data": {
      "text/html": [
       "<div>\n",
       "<style scoped>\n",
       "    .dataframe tbody tr th:only-of-type {\n",
       "        vertical-align: middle;\n",
       "    }\n",
       "\n",
       "    .dataframe tbody tr th {\n",
       "        vertical-align: top;\n",
       "    }\n",
       "\n",
       "    .dataframe thead th {\n",
       "        text-align: right;\n",
       "    }\n",
       "</style>\n",
       "<table border=\"1\" class=\"dataframe\">\n",
       "  <thead>\n",
       "    <tr style=\"text-align: right;\">\n",
       "      <th></th>\n",
       "      <th>name</th>\n",
       "      <th>align</th>\n",
       "      <th>eye</th>\n",
       "      <th>hair</th>\n",
       "      <th>sex</th>\n",
       "      <th>appearances</th>\n",
       "      <th>first_appearance</th>\n",
       "    </tr>\n",
       "  </thead>\n",
       "  <tbody>\n",
       "    <tr>\n",
       "      <th>0</th>\n",
       "      <td>Spider-Man (Peter Parker)</td>\n",
       "      <td>Добрый персонаж</td>\n",
       "      <td>Карие глаза</td>\n",
       "      <td>Каштановые волосы</td>\n",
       "      <td>Мужской персонаж</td>\n",
       "      <td>4043.0</td>\n",
       "      <td>1962.0</td>\n",
       "    </tr>\n",
       "    <tr>\n",
       "      <th>1</th>\n",
       "      <td>Captain America (Steven Rogers)</td>\n",
       "      <td>Добрый персонаж</td>\n",
       "      <td>Голубые глаза</td>\n",
       "      <td>Белые волосы</td>\n",
       "      <td>Мужской персонаж</td>\n",
       "      <td>3360.0</td>\n",
       "      <td>1941.0</td>\n",
       "    </tr>\n",
       "    <tr>\n",
       "      <th>2</th>\n",
       "      <td>Wolverine (James \\\"Logan\\\" Howlett)</td>\n",
       "      <td>Нейтральный персонаж</td>\n",
       "      <td>Голубые глаза</td>\n",
       "      <td>Черные волосы</td>\n",
       "      <td>Мужской персонаж</td>\n",
       "      <td>3061.0</td>\n",
       "      <td>1974.0</td>\n",
       "    </tr>\n",
       "    <tr>\n",
       "      <th>3</th>\n",
       "      <td>Iron Man (Anthony \\\"Tony\\\" Stark)</td>\n",
       "      <td>Добрый персонаж</td>\n",
       "      <td>Голубые глаза</td>\n",
       "      <td>Черные волосы</td>\n",
       "      <td>Мужской персонаж</td>\n",
       "      <td>2961.0</td>\n",
       "      <td>1963.0</td>\n",
       "    </tr>\n",
       "    <tr>\n",
       "      <th>4</th>\n",
       "      <td>Thor (Thor Odinson)</td>\n",
       "      <td>Добрый персонаж</td>\n",
       "      <td>Голубые глаза</td>\n",
       "      <td>Русые волосы</td>\n",
       "      <td>Мужской персонаж</td>\n",
       "      <td>2258.0</td>\n",
       "      <td>1950.0</td>\n",
       "    </tr>\n",
       "    <tr>\n",
       "      <th>...</th>\n",
       "      <td>...</td>\n",
       "      <td>...</td>\n",
       "      <td>...</td>\n",
       "      <td>...</td>\n",
       "      <td>...</td>\n",
       "      <td>...</td>\n",
       "      <td>...</td>\n",
       "    </tr>\n",
       "    <tr>\n",
       "      <th>16371</th>\n",
       "      <td>Ru'ach (Earth-616)</td>\n",
       "      <td>Злой персонаж</td>\n",
       "      <td>Зеленые глаза</td>\n",
       "      <td>Без волос</td>\n",
       "      <td>Мужской персонаж</td>\n",
       "      <td>NaN</td>\n",
       "      <td>NaN</td>\n",
       "    </tr>\n",
       "    <tr>\n",
       "      <th>16372</th>\n",
       "      <td>Thane (Thanos' son) (Earth-616)</td>\n",
       "      <td>Добрый персонаж</td>\n",
       "      <td>Голубые глаза</td>\n",
       "      <td>NaN</td>\n",
       "      <td>Мужской персонаж</td>\n",
       "      <td>NaN</td>\n",
       "      <td>NaN</td>\n",
       "    </tr>\n",
       "    <tr>\n",
       "      <th>16373</th>\n",
       "      <td>Tinkerer (Skrull) (Earth-616)</td>\n",
       "      <td>Злой персонаж</td>\n",
       "      <td>Черные глаза</td>\n",
       "      <td>NaN</td>\n",
       "      <td>Мужской персонаж</td>\n",
       "      <td>NaN</td>\n",
       "      <td>NaN</td>\n",
       "    </tr>\n",
       "    <tr>\n",
       "      <th>16374</th>\n",
       "      <td>TK421 (Spiderling) (Earth-616)</td>\n",
       "      <td>Нейтральный персонаж</td>\n",
       "      <td>NaN</td>\n",
       "      <td>NaN</td>\n",
       "      <td>Мужской персонаж</td>\n",
       "      <td>NaN</td>\n",
       "      <td>NaN</td>\n",
       "    </tr>\n",
       "    <tr>\n",
       "      <th>16375</th>\n",
       "      <td>Yologarch (Earth-616)</td>\n",
       "      <td>Злой персонаж</td>\n",
       "      <td>NaN</td>\n",
       "      <td>NaN</td>\n",
       "      <td>NaN</td>\n",
       "      <td>NaN</td>\n",
       "      <td>NaN</td>\n",
       "    </tr>\n",
       "  </tbody>\n",
       "</table>\n",
       "<p>16376 rows × 7 columns</p>\n",
       "</div>"
      ],
      "text/plain": [
       "                                      name                 align  \\\n",
       "0                Spider-Man (Peter Parker)       Добрый персонаж   \n",
       "1          Captain America (Steven Rogers)       Добрый персонаж   \n",
       "2      Wolverine (James \\\"Logan\\\" Howlett)  Нейтральный персонаж   \n",
       "3        Iron Man (Anthony \\\"Tony\\\" Stark)       Добрый персонаж   \n",
       "4                      Thor (Thor Odinson)       Добрый персонаж   \n",
       "...                                    ...                   ...   \n",
       "16371                   Ru'ach (Earth-616)         Злой персонаж   \n",
       "16372      Thane (Thanos' son) (Earth-616)       Добрый персонаж   \n",
       "16373        Tinkerer (Skrull) (Earth-616)         Злой персонаж   \n",
       "16374       TK421 (Spiderling) (Earth-616)  Нейтральный персонаж   \n",
       "16375                Yologarch (Earth-616)         Злой персонаж   \n",
       "\n",
       "                 eye               hair               sex  appearances  \\\n",
       "0        Карие глаза  Каштановые волосы  Мужской персонаж       4043.0   \n",
       "1      Голубые глаза       Белые волосы  Мужской персонаж       3360.0   \n",
       "2      Голубые глаза      Черные волосы  Мужской персонаж       3061.0   \n",
       "3      Голубые глаза      Черные волосы  Мужской персонаж       2961.0   \n",
       "4      Голубые глаза       Русые волосы  Мужской персонаж       2258.0   \n",
       "...              ...                ...               ...          ...   \n",
       "16371  Зеленые глаза          Без волос  Мужской персонаж          NaN   \n",
       "16372  Голубые глаза                NaN  Мужской персонаж          NaN   \n",
       "16373   Черные глаза                NaN  Мужской персонаж          NaN   \n",
       "16374            NaN                NaN  Мужской персонаж          NaN   \n",
       "16375            NaN                NaN               NaN          NaN   \n",
       "\n",
       "       first_appearance  \n",
       "0                1962.0  \n",
       "1                1941.0  \n",
       "2                1974.0  \n",
       "3                1963.0  \n",
       "4                1950.0  \n",
       "...                 ...  \n",
       "16371               NaN  \n",
       "16372               NaN  \n",
       "16373               NaN  \n",
       "16374               NaN  \n",
       "16375               NaN  \n",
       "\n",
       "[16376 rows x 7 columns]"
      ]
     },
     "execution_count": 3,
     "metadata": {},
     "output_type": "execute_result"
    }
   ],
   "source": [
    "import pandas as pd\n",
    "import numpy as np\n",
    "\n",
    "df = pd.read_csv('Data/MarvelComicCaracters.csv', sep = ';')\n",
    "df"
   ]
  },
  {
   "cell_type": "code",
   "execution_count": 4,
   "id": "0679fbdd",
   "metadata": {},
   "outputs": [
    {
     "data": {
      "text/plain": [
       "0    Голубые глаза\n",
       "Name: eye, dtype: object"
      ]
     },
     "execution_count": 4,
     "metadata": {},
     "output_type": "execute_result"
    }
   ],
   "source": [
    "df['eye'].mode()"
   ]
  },
  {
   "cell_type": "code",
   "execution_count": 5,
   "id": "f8b396de",
   "metadata": {},
   "outputs": [
    {
     "data": {
      "text/plain": [
       "Голубые глаза            1962\n",
       "Темно-карие глаза        1924\n",
       "Зеленые глаза             613\n",
       "Черные глаза              555\n",
       "Красные глаза             508\n",
       "Белые глаза               400\n",
       "Желтые глаза              256\n",
       "Серые глаза                95\n",
       "Карие глаза                76\n",
       "Разноцветные глаза         49\n",
       "Фиолетовые глаза           31\n",
       "Оранжевые глаза            25\n",
       "Розовые глаза              21\n",
       "Один глаз                  21\n",
       "Золотые глаза              14\n",
       "Серебристые глаза          12\n",
       "Лиловые глаза              11\n",
       "Янтарные глаза             10\n",
       "Много глаз                  7\n",
       "Нет глаз                    7\n",
       "Желтые глазные яблоки       6\n",
       "Черные глазные яблоки       3\n",
       "Пурпурные глаза             2\n",
       "Фасеточные глаза            1\n",
       "Name: eye, dtype: int64"
      ]
     },
     "execution_count": 5,
     "metadata": {},
     "output_type": "execute_result"
    }
   ],
   "source": [
    "df['eye'].value_counts()"
   ]
  },
  {
   "cell_type": "code",
   "execution_count": 16,
   "id": "fff6352d",
   "metadata": {},
   "outputs": [
    {
     "data": {
      "text/plain": [
       "0    True\n",
       "Name: hair, dtype: bool"
      ]
     },
     "execution_count": 16,
     "metadata": {},
     "output_type": "execute_result"
    }
   ],
   "source": [
    "df[df['sex'] == 'Мужской персонаж']['hair'].mode() == df[df['sex'] == 'Женский персонаж']['hair'].mode()"
   ]
  },
  {
   "cell_type": "code",
   "execution_count": 17,
   "id": "5f79641d",
   "metadata": {},
   "outputs": [
    {
     "data": {
      "text/plain": [
       "3.0"
      ]
     },
     "execution_count": 17,
     "metadata": {},
     "output_type": "execute_result"
    }
   ],
   "source": [
    "df[df['align'] == 'Злой персонаж']['appearances'].median()"
   ]
  },
  {
   "cell_type": "code",
   "execution_count": 20,
   "id": "41258786",
   "metadata": {},
   "outputs": [
    {
     "data": {
      "text/plain": [
       "9287"
      ]
     },
     "execution_count": 20,
     "metadata": {},
     "output_type": "execute_result"
    }
   ],
   "source": [
    "int(df['appearances'].var(ddof=0))"
   ]
  },
  {
   "cell_type": "code",
   "execution_count": 22,
   "id": "c061dd74",
   "metadata": {},
   "outputs": [
    {
     "data": {
      "text/plain": [
       "1993"
      ]
     },
     "execution_count": 22,
     "metadata": {},
     "output_type": "execute_result"
    }
   ],
   "source": [
    "int(df['first_appearance'].mode())"
   ]
  },
  {
   "cell_type": "code",
   "execution_count": 25,
   "id": "bf0671ff",
   "metadata": {},
   "outputs": [
    {
     "data": {
      "text/plain": [
       "0    Темно-карие глаза\n",
       "Name: eye, dtype: object"
      ]
     },
     "execution_count": 25,
     "metadata": {},
     "output_type": "execute_result"
    }
   ],
   "source": [
    "df['eye'][500:].mode()"
   ]
  },
  {
   "cell_type": "code",
   "execution_count": 29,
   "id": "41cbb604",
   "metadata": {},
   "outputs": [
    {
     "data": {
      "text/plain": [
       "'Черные волосы'"
      ]
     },
     "execution_count": 29,
     "metadata": {},
     "output_type": "execute_result"
    }
   ],
   "source": [
    "df['hair'].mode()[0]"
   ]
  },
  {
   "cell_type": "code",
   "execution_count": 34,
   "id": "87d32a8b",
   "metadata": {},
   "outputs": [
    {
     "data": {
      "text/plain": [
       "94"
      ]
     },
     "execution_count": 34,
     "metadata": {},
     "output_type": "execute_result"
    }
   ],
   "source": [
    "int(df[df['hair'] == df['hair'].mode()[0]]['appearances'].std(ddof=0))"
   ]
  },
  {
   "cell_type": "code",
   "execution_count": null,
   "id": "c22f1de8",
   "metadata": {},
   "outputs": [],
   "source": []
  }
 ],
 "metadata": {
  "kernelspec": {
   "display_name": "Python 3 (ipykernel)",
   "language": "python",
   "name": "python3"
  },
  "language_info": {
   "codemirror_mode": {
    "name": "ipython",
    "version": 3
   },
   "file_extension": ".py",
   "mimetype": "text/x-python",
   "name": "python",
   "nbconvert_exporter": "python",
   "pygments_lexer": "ipython3",
   "version": "3.9.13"
  }
 },
 "nbformat": 4,
 "nbformat_minor": 5
}
